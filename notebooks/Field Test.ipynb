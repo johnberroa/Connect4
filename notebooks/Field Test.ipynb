{
 "cells": [
  {
   "cell_type": "code",
   "execution_count": 1,
   "metadata": {
    "scrolled": false
   },
   "outputs": [
    {
     "name": "stdout",
     "output_type": "stream",
     "text": [
      "[[0 0 0 0 0 0 0]\n",
      " [0 0 0 0 0 0 0]\n",
      " [0 0 0 0 0 0 0]\n",
      " [0 0 0 0 0 0 0]\n",
      " [0 0 0 0 0 0 0]]\n",
      "Where do you want to move, Player r?: 1\n",
      "[[0 0 0 0 0 0 0]\n",
      " [0 0 0 0 0 0 0]\n",
      " [0 0 0 0 0 0 0]\n",
      " [0 0 0 0 0 0 0]\n",
      " [0 0 0 0 0 0 0]]\n",
      "Tie!\n"
     ]
    }
   ],
   "source": [
    "import numpy as np\n",
    "\n",
    "RED_PLAYER = 'r'\n",
    "BLUE_PLAYER = 'b'\n",
    "PLAYERS = [RED_PLAYER, BLUE_PLAYER]\n",
    "WIN_CONDITIONS = [\"Horizontal\", \"Vertical\", \"Diagonally Ascending\", \"Diagonally Descending\"]\n",
    "\n",
    "\n",
    "\n",
    "#TODO TIE CONDITION!\n",
    "\n",
    "class Field:\n",
    "    \"\"\"\n",
    "    Connect4 Field represented as a list of lists.\n",
    "    \"\"\"\n",
    "\n",
    "    def __init__(self, x=7, y=5):\n",
    "        \"\"\"\n",
    "        Initalize the playing field\n",
    "        :param x: # columns\n",
    "        :param y: # rows\n",
    "        \"\"\"\n",
    "        assert x > 0 and y > 0, \"X and Y must be greater than 0!\"\n",
    "        self.x = x\n",
    "        self.y = y\n",
    "\n",
    "        self.field = None\n",
    "        self.new_field()\n",
    "\n",
    "    def place_piece(self, x, player):\n",
    "        \"\"\"\n",
    "        Places a piece in the given column by the given player.\n",
    "        :param x: column index\n",
    "        :param player: player string\n",
    "        :return: False if invalid column (full or otherwise), 'Valid' if successful, 1 if win condition achieved\n",
    "        \"\"\"\n",
    "        assert player in [RED_PLAYER, BLUE_PLAYER], \"Invalid player ID!\"\n",
    "        # Check for a tie\n",
    "        if all(self.field):\n",
    "            return 2\n",
    "        try:\n",
    "            x = int(x)\n",
    "            column = self.field[x]\n",
    "        except (IndexError, ValueError):\n",
    "            print(\"Not a valid column!\")\n",
    "            return False\n",
    "        if all(column) != 0:\n",
    "            print(\"Full!\")\n",
    "            return False\n",
    "        column[column.index(0)] = player\n",
    "        self.field[x] = column\n",
    "        if self.check_for_winner(player):\n",
    "            return 1\n",
    "        return 'Valid'\n",
    "\n",
    "    def _check_for_four(self, potential):\n",
    "        \"\"\"\n",
    "        Checks a boolean list for 4 consecutive Trues\n",
    "        :param potential: boolean list\n",
    "        :return: True if four consecutive Trues exist\n",
    "        \"\"\"\n",
    "        return True if (True, True, True, True) in zip(potential, potential[1:], potential[2:],\n",
    "                                                       potential[3:]) else False\n",
    "\n",
    "    def _straight_check(self, bool_field):\n",
    "        \"\"\"\n",
    "        Check across a straight line for the win condition\n",
    "        :param bool_field: boolean field where True is where the player's pieces are\n",
    "        :return: True if win, False if not\n",
    "        \"\"\"\n",
    "        values = []\n",
    "        for potential in bool_field:\n",
    "            values.append(self._check_for_four(potential))\n",
    "        if True in values:\n",
    "            return True\n",
    "        return False\n",
    "\n",
    "    def _diagonal_check(self, bool_field):\n",
    "        \"\"\"\n",
    "        Check across a diagonal line for the win condition\n",
    "        :param bool_field: boolean field where True is where the player's pieces are\n",
    "        :return: True if win, False if not\n",
    "        \"\"\"\n",
    "        values = []\n",
    "        for potential_index in range(-self.x + 1, self.y):\n",
    "            potential = bool_field.diagonal(potential_index)\n",
    "            values.append(self._check_for_four(potential))\n",
    "        if True in values:\n",
    "            return True\n",
    "        return False\n",
    "\n",
    "    def check_for_winner(self, player):\n",
    "        \"\"\"\n",
    "        Checks for all four win conditions for the given player\n",
    "        :param player: player string\n",
    "        :return: True if win, False if not\n",
    "        \"\"\"\n",
    "        field = np.array(self.field)\n",
    "        field = field == player\n",
    "\n",
    "        checks = []\n",
    "        # Check for all four winning conditions.  Keep these in this order!\n",
    "        checks.append(self._straight_check(field.T))\n",
    "        checks.append(self._straight_check(field))\n",
    "        checks.append(self._diagonal_check(field))\n",
    "        checks.append(self._diagonal_check(np.fliplr(field)))\n",
    "\n",
    "        finder = [True if check is True else False for check in checks]\n",
    "        for i, win_condition in enumerate(finder):\n",
    "            if win_condition == True:\n",
    "                print(\"Win Condition Met: {}\".format(WIN_CONDITIONS[i]))\n",
    "                return True\n",
    "        return False\n",
    "\n",
    "    def new_field(self):\n",
    "        \"\"\"Resets field\"\"\"\n",
    "        self.field = [[0] * self.y for _ in range(self.x)]\n",
    "\n",
    "    @property\n",
    "    def raw_display(self):\n",
    "        \"\"\"Internal representation\"\"\"\n",
    "        return self.field\n",
    "\n",
    "    @property\n",
    "    def debug_display(self):\n",
    "        \"\"\"Array representation\"\"\"\n",
    "        return np.flipud(np.array(self.field).T)\n",
    "\n",
    "\n",
    "def play(field):\n",
    "    done = False\n",
    "    print(field.debug_display)\n",
    "    while True:\n",
    "        for player in PLAYERS:\n",
    "            result = False\n",
    "            while not result:\n",
    "                move = input(\"Where do you want to move, Player {}?: \".format(player))\n",
    "                result = field.place_piece(move, player)\n",
    "            print(field.debug_display)\n",
    "            if result == 1:\n",
    "                print(\"Player {} WINS!\".format(player))\n",
    "                done = True\n",
    "            elif result ==2:\n",
    "                print(\"Tie!\")\n",
    "                done = True\n",
    "            if done: break\n",
    "        if done: break\n",
    "\n",
    "\n",
    "if __name__ == '__main__':\n",
    "    play(Field())"
   ]
  },
  {
   "cell_type": "markdown",
   "metadata": {},
   "source": [
    "f = Field()"
   ]
  },
  {
   "cell_type": "code",
   "execution_count": null,
   "metadata": {
    "scrolled": false
   },
   "outputs": [],
   "source": [
    "f.play()"
   ]
  },
  {
   "cell_type": "markdown",
   "metadata": {},
   "source": [
    "# "
   ]
  },
  {
   "cell_type": "code",
   "execution_count": null,
   "metadata": {},
   "outputs": [],
   "source": [
    "f=Field()\n",
    "f.field\n",
    "f.place_piece(1, 'r')\n",
    "f.place_piece(1, 'b')"
   ]
  },
  {
   "cell_type": "code",
   "execution_count": null,
   "metadata": {},
   "outputs": [],
   "source": [
    "f.debug_display"
   ]
  },
  {
   "cell_type": "code",
   "execution_count": null,
   "metadata": {},
   "outputs": [],
   "source": [
    "f.place_piece(1, 'b')\n",
    "f.debug_display"
   ]
  },
  {
   "cell_type": "code",
   "execution_count": null,
   "metadata": {},
   "outputs": [],
   "source": [
    "f.raw_display"
   ]
  },
  {
   "cell_type": "code",
   "execution_count": null,
   "metadata": {},
   "outputs": [],
   "source": [
    "t= f.check_for_winner()"
   ]
  },
  {
   "cell_type": "code",
   "execution_count": null,
   "metadata": {},
   "outputs": [],
   "source": []
  },
  {
   "cell_type": "code",
   "execution_count": null,
   "metadata": {},
   "outputs": [],
   "source": [
    "for i in t:\n",
    "    print(i)"
   ]
  },
  {
   "cell_type": "code",
   "execution_count": null,
   "metadata": {},
   "outputs": [],
   "source": [
    "for i in t:\n",
    "    print(True if (True, True, True, True) in zip(i, i[1:], i[2:], i[3:]) else False)\n",
    "# x for x, y in zip(a, a[1:]) if x == y}"
   ]
  },
  {
   "cell_type": "code",
   "execution_count": null,
   "metadata": {},
   "outputs": [],
   "source": [
    "t= np.random.random((5,10))\n",
    "print(t)\n",
    "print(t.T)\n",
    "for i in range(-5, 10):\n",
    "    print(t.diagonal(i), i)"
   ]
  },
  {
   "cell_type": "code",
   "execution_count": null,
   "metadata": {},
   "outputs": [],
   "source": []
  }
 ],
 "metadata": {
  "kernelspec": {
   "display_name": "Python 3",
   "language": "python",
   "name": "python3"
  },
  "language_info": {
   "codemirror_mode": {
    "name": "ipython",
    "version": 3
   },
   "file_extension": ".py",
   "mimetype": "text/x-python",
   "name": "python",
   "nbconvert_exporter": "python",
   "pygments_lexer": "ipython3",
   "version": "3.5.3"
  }
 },
 "nbformat": 4,
 "nbformat_minor": 2
}
